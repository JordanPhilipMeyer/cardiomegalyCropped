{
 "cells": [
  {
   "cell_type": "code",
   "execution_count": 23,
   "metadata": {},
   "outputs": [],
   "source": [
    "import pandas as pd\n",
    "import boto3\n",
    "import os"
   ]
  },
  {
   "cell_type": "code",
   "execution_count": 13,
   "metadata": {},
   "outputs": [
    {
     "ename": "NameError",
     "evalue": "name 'boto3' is not defined",
     "output_type": "error",
     "traceback": [
      "\u001b[0;31m---------------------------------------------------------------------------\u001b[0m",
      "\u001b[0;31mNameError\u001b[0m                                 Traceback (most recent call last)",
      "\u001b[0;32m<ipython-input-13-af5a3d22bfad>\u001b[0m in \u001b[0;36m<module>\u001b[0;34m\u001b[0m\n\u001b[0;32m----> 1\u001b[0;31m \u001b[0ms3_client\u001b[0m \u001b[0;34m=\u001b[0m \u001b[0mboto3\u001b[0m\u001b[0;34m.\u001b[0m\u001b[0mclient\u001b[0m\u001b[0;34m(\u001b[0m\u001b[0;34m's3'\u001b[0m\u001b[0;34m)\u001b[0m\u001b[0;34m\u001b[0m\u001b[0;34m\u001b[0m\u001b[0m\n\u001b[0m",
      "\u001b[0;31mNameError\u001b[0m: name 'boto3' is not defined"
     ]
    }
   ],
   "source": [
    "s3_client = boto3.client('s3')"
   ]
  },
  {
   "cell_type": "code",
   "execution_count": 4,
   "metadata": {},
   "outputs": [],
   "source": [
    "df = pd.read_csv('traindata.csv', names = ['path','findings','patID'])"
   ]
  },
  {
   "cell_type": "code",
   "execution_count": 5,
   "metadata": {},
   "outputs": [
    {
     "data": {
      "text/html": [
       "<div>\n",
       "<style scoped>\n",
       "    .dataframe tbody tr th:only-of-type {\n",
       "        vertical-align: middle;\n",
       "    }\n",
       "\n",
       "    .dataframe tbody tr th {\n",
       "        vertical-align: top;\n",
       "    }\n",
       "\n",
       "    .dataframe thead th {\n",
       "        text-align: right;\n",
       "    }\n",
       "</style>\n",
       "<table border=\"1\" class=\"dataframe\">\n",
       "  <thead>\n",
       "    <tr style=\"text-align: right;\">\n",
       "      <th></th>\n",
       "      <th>path</th>\n",
       "      <th>findings</th>\n",
       "      <th>patID</th>\n",
       "    </tr>\n",
       "  </thead>\n",
       "  <tbody>\n",
       "    <tr>\n",
       "      <td>0</td>\n",
       "      <td>CheXpert-v1.0-small/train/patient00001/study1/...</td>\n",
       "      <td>No Cardiomegaly</td>\n",
       "      <td>1</td>\n",
       "    </tr>\n",
       "    <tr>\n",
       "      <td>1</td>\n",
       "      <td>CheXpert-v1.0-small/train/patient00002/study2/...</td>\n",
       "      <td>No Cardiomegaly</td>\n",
       "      <td>2</td>\n",
       "    </tr>\n",
       "    <tr>\n",
       "      <td>2</td>\n",
       "      <td>CheXpert-v1.0-small/train/patient00002/study1/...</td>\n",
       "      <td>No Cardiomegaly</td>\n",
       "      <td>2</td>\n",
       "    </tr>\n",
       "    <tr>\n",
       "      <td>3</td>\n",
       "      <td>CheXpert-v1.0-small/train/patient00002/study1/...</td>\n",
       "      <td>No Cardiomegaly</td>\n",
       "      <td>2</td>\n",
       "    </tr>\n",
       "    <tr>\n",
       "      <td>4</td>\n",
       "      <td>CheXpert-v1.0-small/train/patient00003/study1/...</td>\n",
       "      <td>No Cardiomegaly</td>\n",
       "      <td>3</td>\n",
       "    </tr>\n",
       "  </tbody>\n",
       "</table>\n",
       "</div>"
      ],
      "text/plain": [
       "                                                path         findings  patID\n",
       "0  CheXpert-v1.0-small/train/patient00001/study1/...  No Cardiomegaly      1\n",
       "1  CheXpert-v1.0-small/train/patient00002/study2/...  No Cardiomegaly      2\n",
       "2  CheXpert-v1.0-small/train/patient00002/study1/...  No Cardiomegaly      2\n",
       "3  CheXpert-v1.0-small/train/patient00002/study1/...  No Cardiomegaly      2\n",
       "4  CheXpert-v1.0-small/train/patient00003/study1/...  No Cardiomegaly      3"
      ]
     },
     "execution_count": 5,
     "metadata": {},
     "output_type": "execute_result"
    }
   ],
   "source": [
    "df.head()"
   ]
  },
  {
   "cell_type": "code",
   "execution_count": 6,
   "metadata": {},
   "outputs": [],
   "source": [
    "reduceddf = df.head(1000)"
   ]
  },
  {
   "cell_type": "code",
   "execution_count": 7,
   "metadata": {},
   "outputs": [
    {
     "data": {
      "text/plain": [
       "(1000, 3)"
      ]
     },
     "execution_count": 7,
     "metadata": {},
     "output_type": "execute_result"
    }
   ],
   "source": [
    "reduceddf.shape"
   ]
  },
  {
   "cell_type": "code",
   "execution_count": 9,
   "metadata": {},
   "outputs": [],
   "source": [
    "evenmorereduced = reduceddf.head(5)"
   ]
  },
  {
   "cell_type": "code",
   "execution_count": 53,
   "metadata": {},
   "outputs": [
    {
     "name": "stdout",
     "output_type": "stream",
     "text": [
      "CheXpert-v1.0-small/train/patient00001/study1/view1_frontal.jpg\n",
      "CheXpert-v1.0-small/train/patient00002/study2/view1_frontal.jpg\n",
      "CheXpert-v1.0-small/train/patient00002/study1/view1_frontal.jpg\n",
      "CheXpert-v1.0-small/train/patient00002/study1/view2_lateral.jpg\n",
      "CheXpert-v1.0-small/train/patient00003/study1/view1_frontal.jpg\n"
     ]
    }
   ],
   "source": [
    "for path in evenmorereduced.path:\n",
    "    print(path)"
   ]
  },
  {
   "cell_type": "code",
   "execution_count": 25,
   "metadata": {},
   "outputs": [
    {
     "name": "stdout",
     "output_type": "stream",
     "text": [
      "/media/jordan/Jordan/software engineering/Machine Learning Projects/Cardiomegaly/Cropping\n"
     ]
    }
   ],
   "source": [
    "cd .."
   ]
  },
  {
   "cell_type": "code",
   "execution_count": 54,
   "metadata": {},
   "outputs": [],
   "source": [
    "# filesToDownload=[]\n",
    "for path in reduceddf.path:\n",
    "\n",
    "#     awsPatLocation = 'train/'+ path[0:38]\n",
    "#     downloadDirectoryFroms3('sagemaker-cardiomegaly', awsPatLocation)\n",
    "#     print(path[0:38])\n",
    "    truepath = 'train/'+path\n",
    "    ImageCropping(truepath,truepath)\n"
   ]
  },
  {
   "cell_type": "code",
   "execution_count": 14,
   "metadata": {},
   "outputs": [],
   "source": [
    "import boto3\n",
    "s3_client = boto3.client('s3')\n"
   ]
  },
  {
   "cell_type": "code",
   "execution_count": 18,
   "metadata": {},
   "outputs": [],
   "source": [
    "\n",
    "s3client = boto3.client('s3')\n"
   ]
  },
  {
   "cell_type": "code",
   "execution_count": 20,
   "metadata": {},
   "outputs": [],
   "source": [
    "def downloadFromS3(bucket,s3file,localfilename):\n",
    "    s3client.download_file(bucket, s3file, localfilename)"
   ]
  },
  {
   "cell_type": "code",
   "execution_count": 38,
   "metadata": {},
   "outputs": [],
   "source": [
    "def downloadDirectoryFroms3(bucketName,remoteDirectoryName):\n",
    "    s3_resource = boto3.resource('s3')\n",
    "    bucket = s3_resource.Bucket(bucketName) \n",
    "    for object in bucket.objects.filter(Prefix = remoteDirectoryName):\n",
    "        if not os.path.exists(os.path.dirname(object.key)):\n",
    "            os.makedirs(os.path.dirname(object.key))\n",
    "        bucket.download_file(object.key,object.key)"
   ]
  },
  {
   "cell_type": "code",
   "execution_count": 39,
   "metadata": {},
   "outputs": [],
   "source": [
    "# downloadDirectoryFroms3('sagemaker-cardiomegaly','train/CheXpert-v1.0-small/train/patient00001')"
   ]
  },
  {
   "cell_type": "code",
   "execution_count": 48,
   "metadata": {},
   "outputs": [],
   "source": [
    "# Improting Image class from PIL module \n",
    "from PIL import Image \n",
    "  \n"
   ]
  },
  {
   "cell_type": "code",
   "execution_count": 49,
   "metadata": {},
   "outputs": [],
   "source": [
    "# Opens a image in RGB mode \n",
    "def ImageCropping(inputpath,outpath):\n",
    "    im = Image.open(inputpath) \n",
    "\n",
    "    # Size of the image in pixels (size of orginal image) \n",
    "    # (This is not mandatory) \n",
    "    width, height = im.size \n",
    "\n",
    "    # Setting the points for cropped image \n",
    "    left = 50\n",
    "    top = 50\n",
    "    right = 274\n",
    "    bottom = 274\n",
    "\n",
    "    # Cropped image of above dimension \n",
    "    # (It will not change orginal image) \n",
    "    im1 = im.crop((left, top, right, bottom)) \n",
    "\n",
    "    # Shows the image in image viewer \n",
    "    # im1.show() \n",
    "    im1.save(outpath)"
   ]
  },
  {
   "cell_type": "code",
   "execution_count": 55,
   "metadata": {},
   "outputs": [
    {
     "data": {
      "text/html": [
       "<div>\n",
       "<style scoped>\n",
       "    .dataframe tbody tr th:only-of-type {\n",
       "        vertical-align: middle;\n",
       "    }\n",
       "\n",
       "    .dataframe tbody tr th {\n",
       "        vertical-align: top;\n",
       "    }\n",
       "\n",
       "    .dataframe thead th {\n",
       "        text-align: right;\n",
       "    }\n",
       "</style>\n",
       "<table border=\"1\" class=\"dataframe\">\n",
       "  <thead>\n",
       "    <tr style=\"text-align: right;\">\n",
       "      <th></th>\n",
       "      <th>path</th>\n",
       "      <th>findings</th>\n",
       "      <th>patID</th>\n",
       "    </tr>\n",
       "  </thead>\n",
       "  <tbody>\n",
       "    <tr>\n",
       "      <td>0</td>\n",
       "      <td>CheXpert-v1.0-small/train/patient00001/study1/...</td>\n",
       "      <td>No Cardiomegaly</td>\n",
       "      <td>1</td>\n",
       "    </tr>\n",
       "    <tr>\n",
       "      <td>1</td>\n",
       "      <td>CheXpert-v1.0-small/train/patient00002/study2/...</td>\n",
       "      <td>No Cardiomegaly</td>\n",
       "      <td>2</td>\n",
       "    </tr>\n",
       "    <tr>\n",
       "      <td>2</td>\n",
       "      <td>CheXpert-v1.0-small/train/patient00002/study1/...</td>\n",
       "      <td>No Cardiomegaly</td>\n",
       "      <td>2</td>\n",
       "    </tr>\n",
       "    <tr>\n",
       "      <td>3</td>\n",
       "      <td>CheXpert-v1.0-small/train/patient00002/study1/...</td>\n",
       "      <td>No Cardiomegaly</td>\n",
       "      <td>2</td>\n",
       "    </tr>\n",
       "    <tr>\n",
       "      <td>4</td>\n",
       "      <td>CheXpert-v1.0-small/train/patient00003/study1/...</td>\n",
       "      <td>No Cardiomegaly</td>\n",
       "      <td>3</td>\n",
       "    </tr>\n",
       "  </tbody>\n",
       "</table>\n",
       "</div>"
      ],
      "text/plain": [
       "                                                path         findings  patID\n",
       "0  CheXpert-v1.0-small/train/patient00001/study1/...  No Cardiomegaly      1\n",
       "1  CheXpert-v1.0-small/train/patient00002/study2/...  No Cardiomegaly      2\n",
       "2  CheXpert-v1.0-small/train/patient00002/study1/...  No Cardiomegaly      2\n",
       "3  CheXpert-v1.0-small/train/patient00002/study1/...  No Cardiomegaly      2\n",
       "4  CheXpert-v1.0-small/train/patient00003/study1/...  No Cardiomegaly      3"
      ]
     },
     "execution_count": 55,
     "metadata": {},
     "output_type": "execute_result"
    }
   ],
   "source": [
    "reduceddf.head()"
   ]
  },
  {
   "cell_type": "code",
   "execution_count": 59,
   "metadata": {},
   "outputs": [
    {
     "name": "stderr",
     "output_type": "stream",
     "text": [
      "/home/jordan/miniconda3/lib/python3.7/site-packages/ipykernel_launcher.py:1: SettingWithCopyWarning: \n",
      "A value is trying to be set on a copy of a slice from a DataFrame.\n",
      "Try using .loc[row_indexer,col_indexer] = value instead\n",
      "\n",
      "See the caveats in the documentation: http://pandas.pydata.org/pandas-docs/stable/user_guide/indexing.html#returning-a-view-versus-a-copy\n",
      "  \"\"\"Entry point for launching an IPython kernel.\n"
     ]
    }
   ],
   "source": [
    "evenmorereduced['path']= evenmorereduced['path'].apply(lambda x: 'train/'+x)"
   ]
  },
  {
   "cell_type": "code",
   "execution_count": 60,
   "metadata": {},
   "outputs": [
    {
     "data": {
      "text/html": [
       "<div>\n",
       "<style scoped>\n",
       "    .dataframe tbody tr th:only-of-type {\n",
       "        vertical-align: middle;\n",
       "    }\n",
       "\n",
       "    .dataframe tbody tr th {\n",
       "        vertical-align: top;\n",
       "    }\n",
       "\n",
       "    .dataframe thead th {\n",
       "        text-align: right;\n",
       "    }\n",
       "</style>\n",
       "<table border=\"1\" class=\"dataframe\">\n",
       "  <thead>\n",
       "    <tr style=\"text-align: right;\">\n",
       "      <th></th>\n",
       "      <th>path</th>\n",
       "      <th>findings</th>\n",
       "      <th>patID</th>\n",
       "    </tr>\n",
       "  </thead>\n",
       "  <tbody>\n",
       "    <tr>\n",
       "      <td>0</td>\n",
       "      <td>train/CheXpert-v1.0-small/train/patient00001/s...</td>\n",
       "      <td>No Cardiomegaly</td>\n",
       "      <td>1</td>\n",
       "    </tr>\n",
       "    <tr>\n",
       "      <td>1</td>\n",
       "      <td>train/CheXpert-v1.0-small/train/patient00002/s...</td>\n",
       "      <td>No Cardiomegaly</td>\n",
       "      <td>2</td>\n",
       "    </tr>\n",
       "    <tr>\n",
       "      <td>2</td>\n",
       "      <td>train/CheXpert-v1.0-small/train/patient00002/s...</td>\n",
       "      <td>No Cardiomegaly</td>\n",
       "      <td>2</td>\n",
       "    </tr>\n",
       "    <tr>\n",
       "      <td>3</td>\n",
       "      <td>train/CheXpert-v1.0-small/train/patient00002/s...</td>\n",
       "      <td>No Cardiomegaly</td>\n",
       "      <td>2</td>\n",
       "    </tr>\n",
       "    <tr>\n",
       "      <td>4</td>\n",
       "      <td>train/CheXpert-v1.0-small/train/patient00003/s...</td>\n",
       "      <td>No Cardiomegaly</td>\n",
       "      <td>3</td>\n",
       "    </tr>\n",
       "  </tbody>\n",
       "</table>\n",
       "</div>"
      ],
      "text/plain": [
       "                                                path         findings  patID\n",
       "0  train/CheXpert-v1.0-small/train/patient00001/s...  No Cardiomegaly      1\n",
       "1  train/CheXpert-v1.0-small/train/patient00002/s...  No Cardiomegaly      2\n",
       "2  train/CheXpert-v1.0-small/train/patient00002/s...  No Cardiomegaly      2\n",
       "3  train/CheXpert-v1.0-small/train/patient00002/s...  No Cardiomegaly      2\n",
       "4  train/CheXpert-v1.0-small/train/patient00003/s...  No Cardiomegaly      3"
      ]
     },
     "execution_count": 60,
     "metadata": {},
     "output_type": "execute_result"
    }
   ],
   "source": [
    "evenmorereduced"
   ]
  },
  {
   "cell_type": "code",
   "execution_count": 61,
   "metadata": {},
   "outputs": [
    {
     "name": "stderr",
     "output_type": "stream",
     "text": [
      "/home/jordan/miniconda3/lib/python3.7/site-packages/ipykernel_launcher.py:1: SettingWithCopyWarning: \n",
      "A value is trying to be set on a copy of a slice from a DataFrame.\n",
      "Try using .loc[row_indexer,col_indexer] = value instead\n",
      "\n",
      "See the caveats in the documentation: http://pandas.pydata.org/pandas-docs/stable/user_guide/indexing.html#returning-a-view-versus-a-copy\n",
      "  \"\"\"Entry point for launching an IPython kernel.\n"
     ]
    }
   ],
   "source": [
    "reduceddf['path'] = reduceddf['path'].apply(lambda x: 'train/'+x)"
   ]
  },
  {
   "cell_type": "code",
   "execution_count": 97,
   "metadata": {},
   "outputs": [],
   "source": [
    "reduceddf.loc[4] = ['train/CheXpert-v1.0-small/train/patient00003/study1/view1_frontal.jpg', \n",
    "                   'No Cardiomegaly',\n",
    "                   3]"
   ]
  },
  {
   "cell_type": "code",
   "execution_count": 98,
   "metadata": {},
   "outputs": [
    {
     "data": {
      "text/plain": [
       "path        train/CheXpert-v1.0-small/train/patient00003/s...\n",
       "findings                                      No Cardiomegaly\n",
       "patID                                                       3\n",
       "Name: 4, dtype: object"
      ]
     },
     "execution_count": 98,
     "metadata": {},
     "output_type": "execute_result"
    }
   ],
   "source": [
    "reduceddf.loc[4]"
   ]
  },
  {
   "cell_type": "code",
   "execution_count": 96,
   "metadata": {},
   "outputs": [
    {
     "data": {
      "text/plain": [
       "'train/train/CheXpert-v1.0-small/train/patient00003/study1/view1_frontal.jpg'"
      ]
     },
     "execution_count": 96,
     "metadata": {},
     "output_type": "execute_result"
    }
   ],
   "source": [
    "reduceddf.loc[4][0]"
   ]
  },
  {
   "cell_type": "code",
   "execution_count": 100,
   "metadata": {},
   "outputs": [
    {
     "data": {
      "text/html": [
       "<div>\n",
       "<style scoped>\n",
       "    .dataframe tbody tr th:only-of-type {\n",
       "        vertical-align: middle;\n",
       "    }\n",
       "\n",
       "    .dataframe tbody tr th {\n",
       "        vertical-align: top;\n",
       "    }\n",
       "\n",
       "    .dataframe thead th {\n",
       "        text-align: right;\n",
       "    }\n",
       "</style>\n",
       "<table border=\"1\" class=\"dataframe\">\n",
       "  <thead>\n",
       "    <tr style=\"text-align: right;\">\n",
       "      <th></th>\n",
       "      <th>path</th>\n",
       "      <th>findings</th>\n",
       "      <th>patID</th>\n",
       "    </tr>\n",
       "  </thead>\n",
       "  <tbody>\n",
       "    <tr>\n",
       "      <td>0</td>\n",
       "      <td>train/CheXpert-v1.0-small/train/patient00001/s...</td>\n",
       "      <td>No Cardiomegaly</td>\n",
       "      <td>1</td>\n",
       "    </tr>\n",
       "    <tr>\n",
       "      <td>1</td>\n",
       "      <td>train/CheXpert-v1.0-small/train/patient00002/s...</td>\n",
       "      <td>No Cardiomegaly</td>\n",
       "      <td>2</td>\n",
       "    </tr>\n",
       "    <tr>\n",
       "      <td>2</td>\n",
       "      <td>train/CheXpert-v1.0-small/train/patient00002/s...</td>\n",
       "      <td>No Cardiomegaly</td>\n",
       "      <td>2</td>\n",
       "    </tr>\n",
       "    <tr>\n",
       "      <td>3</td>\n",
       "      <td>train/CheXpert-v1.0-small/train/patient00002/s...</td>\n",
       "      <td>No Cardiomegaly</td>\n",
       "      <td>2</td>\n",
       "    </tr>\n",
       "    <tr>\n",
       "      <td>4</td>\n",
       "      <td>train/CheXpert-v1.0-small/train/patient00003/s...</td>\n",
       "      <td>No Cardiomegaly</td>\n",
       "      <td>3</td>\n",
       "    </tr>\n",
       "    <tr>\n",
       "      <td>5</td>\n",
       "      <td>train/CheXpert-v1.0-small/train/patient00004/s...</td>\n",
       "      <td>No Cardiomegaly</td>\n",
       "      <td>4</td>\n",
       "    </tr>\n",
       "    <tr>\n",
       "      <td>6</td>\n",
       "      <td>train/CheXpert-v1.0-small/train/patient00004/s...</td>\n",
       "      <td>No Cardiomegaly</td>\n",
       "      <td>4</td>\n",
       "    </tr>\n",
       "    <tr>\n",
       "      <td>7</td>\n",
       "      <td>train/CheXpert-v1.0-small/train/patient00005/s...</td>\n",
       "      <td>No Cardiomegaly</td>\n",
       "      <td>5</td>\n",
       "    </tr>\n",
       "    <tr>\n",
       "      <td>8</td>\n",
       "      <td>train/CheXpert-v1.0-small/train/patient00005/s...</td>\n",
       "      <td>No Cardiomegaly</td>\n",
       "      <td>5</td>\n",
       "    </tr>\n",
       "    <tr>\n",
       "      <td>9</td>\n",
       "      <td>train/CheXpert-v1.0-small/train/patient00006/s...</td>\n",
       "      <td>No Cardiomegaly</td>\n",
       "      <td>6</td>\n",
       "    </tr>\n",
       "    <tr>\n",
       "      <td>10</td>\n",
       "      <td>train/CheXpert-v1.0-small/train/patient00007/s...</td>\n",
       "      <td>Cardiomegaly</td>\n",
       "      <td>7</td>\n",
       "    </tr>\n",
       "    <tr>\n",
       "      <td>11</td>\n",
       "      <td>train/CheXpert-v1.0-small/train/patient00007/s...</td>\n",
       "      <td>No Cardiomegaly</td>\n",
       "      <td>7</td>\n",
       "    </tr>\n",
       "    <tr>\n",
       "      <td>12</td>\n",
       "      <td>train/CheXpert-v1.0-small/train/patient00008/s...</td>\n",
       "      <td>No Cardiomegaly</td>\n",
       "      <td>8</td>\n",
       "    </tr>\n",
       "    <tr>\n",
       "      <td>13</td>\n",
       "      <td>train/CheXpert-v1.0-small/train/patient00008/s...</td>\n",
       "      <td>No Cardiomegaly</td>\n",
       "      <td>8</td>\n",
       "    </tr>\n",
       "    <tr>\n",
       "      <td>14</td>\n",
       "      <td>train/CheXpert-v1.0-small/train/patient00009/s...</td>\n",
       "      <td>Cardiomegaly</td>\n",
       "      <td>9</td>\n",
       "    </tr>\n",
       "    <tr>\n",
       "      <td>15</td>\n",
       "      <td>train/CheXpert-v1.0-small/train/patient00009/s...</td>\n",
       "      <td>Cardiomegaly</td>\n",
       "      <td>9</td>\n",
       "    </tr>\n",
       "    <tr>\n",
       "      <td>16</td>\n",
       "      <td>train/CheXpert-v1.0-small/train/patient00010/s...</td>\n",
       "      <td>No Cardiomegaly</td>\n",
       "      <td>10</td>\n",
       "    </tr>\n",
       "    <tr>\n",
       "      <td>17</td>\n",
       "      <td>train/CheXpert-v1.0-small/train/patient00010/s...</td>\n",
       "      <td>No Cardiomegaly</td>\n",
       "      <td>10</td>\n",
       "    </tr>\n",
       "    <tr>\n",
       "      <td>18</td>\n",
       "      <td>train/CheXpert-v1.0-small/train/patient00011/s...</td>\n",
       "      <td>No Cardiomegaly</td>\n",
       "      <td>11</td>\n",
       "    </tr>\n",
       "    <tr>\n",
       "      <td>19</td>\n",
       "      <td>train/CheXpert-v1.0-small/train/patient00011/s...</td>\n",
       "      <td>No Cardiomegaly</td>\n",
       "      <td>11</td>\n",
       "    </tr>\n",
       "  </tbody>\n",
       "</table>\n",
       "</div>"
      ],
      "text/plain": [
       "                                                 path         findings  patID\n",
       "0   train/CheXpert-v1.0-small/train/patient00001/s...  No Cardiomegaly      1\n",
       "1   train/CheXpert-v1.0-small/train/patient00002/s...  No Cardiomegaly      2\n",
       "2   train/CheXpert-v1.0-small/train/patient00002/s...  No Cardiomegaly      2\n",
       "3   train/CheXpert-v1.0-small/train/patient00002/s...  No Cardiomegaly      2\n",
       "4   train/CheXpert-v1.0-small/train/patient00003/s...  No Cardiomegaly      3\n",
       "5   train/CheXpert-v1.0-small/train/patient00004/s...  No Cardiomegaly      4\n",
       "6   train/CheXpert-v1.0-small/train/patient00004/s...  No Cardiomegaly      4\n",
       "7   train/CheXpert-v1.0-small/train/patient00005/s...  No Cardiomegaly      5\n",
       "8   train/CheXpert-v1.0-small/train/patient00005/s...  No Cardiomegaly      5\n",
       "9   train/CheXpert-v1.0-small/train/patient00006/s...  No Cardiomegaly      6\n",
       "10  train/CheXpert-v1.0-small/train/patient00007/s...     Cardiomegaly      7\n",
       "11  train/CheXpert-v1.0-small/train/patient00007/s...  No Cardiomegaly      7\n",
       "12  train/CheXpert-v1.0-small/train/patient00008/s...  No Cardiomegaly      8\n",
       "13  train/CheXpert-v1.0-small/train/patient00008/s...  No Cardiomegaly      8\n",
       "14  train/CheXpert-v1.0-small/train/patient00009/s...     Cardiomegaly      9\n",
       "15  train/CheXpert-v1.0-small/train/patient00009/s...     Cardiomegaly      9\n",
       "16  train/CheXpert-v1.0-small/train/patient00010/s...  No Cardiomegaly     10\n",
       "17  train/CheXpert-v1.0-small/train/patient00010/s...  No Cardiomegaly     10\n",
       "18  train/CheXpert-v1.0-small/train/patient00011/s...  No Cardiomegaly     11\n",
       "19  train/CheXpert-v1.0-small/train/patient00011/s...  No Cardiomegaly     11"
      ]
     },
     "execution_count": 100,
     "metadata": {},
     "output_type": "execute_result"
    }
   ],
   "source": [
    "reduceddf.head(20)"
   ]
  },
  {
   "cell_type": "code",
   "execution_count": 101,
   "metadata": {},
   "outputs": [],
   "source": [
    "reduceddf.to_csv('croppedCSV.csv',index=False, columns=['path','findings'])"
   ]
  },
  {
   "cell_type": "code",
   "execution_count": null,
   "metadata": {},
   "outputs": [],
   "source": []
  }
 ],
 "metadata": {
  "kernelspec": {
   "display_name": "Python 3",
   "language": "python",
   "name": "python3"
  },
  "language_info": {
   "codemirror_mode": {
    "name": "ipython",
    "version": 3
   },
   "file_extension": ".py",
   "mimetype": "text/x-python",
   "name": "python",
   "nbconvert_exporter": "python",
   "pygments_lexer": "ipython3",
   "version": "3.7.3"
  }
 },
 "nbformat": 4,
 "nbformat_minor": 2
}
